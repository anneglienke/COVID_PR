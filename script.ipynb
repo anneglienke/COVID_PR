{
  "nbformat": 4,
  "nbformat_minor": 0,
  "metadata": {
    "colab": {
      "name": "Covid_PR.ipynb",
      "provenance": []
    },
    "kernelspec": {
      "name": "python3",
      "display_name": "Python 3"
    }
  },
  "cells": [
    {
      "cell_type": "code",
      "metadata": {
        "id": "HP6aRClbT8fm"
      },
      "source": [
        "!pip install requests\n",
        "import requests as req\n",
        "import pandas as pd \n",
        "from datetime import datetime, timedelta, timezone\n",
        "import sqlalchemy\n",
        "import sqlite3"
      ],
      "execution_count": null,
      "outputs": []
    },
    {
      "cell_type": "code",
      "metadata": {
        "id": "CUC8CYjNrF_v"
      },
      "source": [
        "DATABASE_LOCATION = \"sqlite:///COVID_PR_Completo.sqlite\""
      ],
      "execution_count": 116,
      "outputs": []
    },
    {
      "cell_type": "code",
      "metadata": {
        "id": "0nnAgx4VUIRd"
      },
      "source": [
        "# Date\n",
        "today = datetime.today()\n",
        "yesterday = today - timedelta(days=1,hours=3) #to do: UTC\n",
        "yyyymm = str(yesterday.year)+\"-\"+str(yesterday.month)\n",
        "ddmm = str(yesterday.day)+\"_\"+str(yesterday.month)\n",
        "\n",
        "date = yesterday.strftime(\"%x\")\n",
        "\n",
        "#start_date = today - timedelta(days=90)\n",
        "#delta = timedelta(days=1)\n",
        "\n",
        "#while start_date <= today:\n",
        "#    run script\n",
        "#    start_date += delta"
      ],
      "execution_count": 112,
      "outputs": []
    },
    {
      "cell_type": "code",
      "metadata": {
        "id": "1A2c6NRRg2m6"
      },
      "source": [
        ""
      ],
      "execution_count": null,
      "outputs": []
    },
    {
      "cell_type": "code",
      "metadata": {
        "id": "Q_zLICtkUL9j"
      },
      "source": [
        "# Extract CSV\n",
        "\n",
        "if __name__ == \"__main__\":\n",
        "\n",
        "  # Path\n",
        "  informe = ['informe_epidemiologico','INFORME_EPIDEMIOLOGICO']\n",
        "  geral = ['geral','GERAL','Geral']\n",
        "\n",
        "  for i in informe:\n",
        "      for g in geral: \n",
        "        try:\n",
        "          path = f'https://www.saude.pr.gov.br/sites/default/arquivos_restritos/files/documento/{yyyymm}/{i}_{ddmm}_{g}.csv'\n",
        "  # DataFrame\n",
        "          df = pd.read_csv(path,sep=';')\n",
        "        except Exception:\n",
        "          pass\n",
        "\n",
        "  # Index\n",
        "  df[\"Extraido_em\"] = date\n",
        "  df.set_index(\"Extraido_em\", inplace=True)\n",
        "\n",
        "  data_PR = pd.DataFrame(df,columns=[\"IBGE_RES_PR\",\n",
        "                                     \"IBGE_ATEND_PR\",\n",
        "                                     \"SEXO\",\n",
        "                                     \"IDADE_ORIGINAL\",\n",
        "                                     \"MUN_RESIDENCIA\",\n",
        "                                     \"MUN_ATENDIMENTO\",\n",
        "                                     \"LABORATORIO\",\n",
        "                                     \"DATA_DIAGNOSTICO\",\n",
        "                                     \"DATA_CONFIRMACAO_DIVULGACAO\",\n",
        "                                     \"DATA_INICIO_SINTOMAS\",\n",
        "                                     \"OBITO\",\n",
        "                                     \"DATA_OBITO\",\n",
        "                                     \"DATA_OBITO_DIVULGACAO\",\n",
        "                                     \"STATUS\",\n",
        "                                     \"DATA_RECUPERADO_DIVULGACAO\",\n",
        "                                     \"FONTE_DADO_RECUPERADO\"])\n",
        "  print(data_PR)"
      ],
      "execution_count": null,
      "outputs": []
    },
    {
      "cell_type": "code",
      "metadata": {
        "id": "Qt06oNvseIUE"
      },
      "source": [
        "# Define validation function\n",
        "\n",
        "def check_if_valid_data(df: pd.DataFrame) -> bool:\n",
        "    # Check if df is empty\n",
        "    if data_PR.empty:\n",
        "        print(\"No data downloaded\")\n",
        "        return False\n",
        "\n",
        "#    Check for duplicates\n",
        "#    if pd.Series(data_PR[\"\"],data_PR.index).is_unique:\n",
        "#        pass\n",
        "#    else:\n",
        "#        raise Exception(\"Duplicated primary key\")"
      ],
      "execution_count": 114,
      "outputs": []
    },
    {
      "cell_type": "code",
      "metadata": {
        "id": "X80LGZNvCdKn"
      },
      "source": [
        "# VaLidate\n",
        "if check_if_valid_data(data_PR):\n",
        "    print(\"Valid data\")"
      ],
      "execution_count": 115,
      "outputs": []
    },
    {
      "cell_type": "code",
      "metadata": {
        "id": "1IiRwu0YUAz2",
        "colab": {
          "base_uri": "https://localhost:8080/"
        },
        "outputId": "c4800b78-e62b-47b1-d398-1f07302b38b1"
      },
      "source": [
        "# Load\n",
        "engine = sqlalchemy.create_engine(DATABASE_LOCATION)\n",
        "conn = sqlite3.connect('COVID_PR_Completo.db')\n",
        "cursor = conn.cursor()\n",
        "\n",
        "# Define tables - Insert date index\n",
        "sql_query = \"\"\"\n",
        "CREATE TABLE IF NOT EXISTS COVID_PR_Completo( \n",
        "  IBGE_RES_PR VARCHAR(15),\n",
        "  IBGE_ATEND_PR VARCHAR(15),\n",
        "  SEXO VARCHAR(5),\n",
        "  IDADE_ORIGINAL INTEGER,\n",
        "  MUN_RESIDENCIA VARCHAR(30),\n",
        "  MUN_ATENDIMENTO VARCHAR(30),\n",
        "  LABORATORIO VARCHAR(50),\n",
        "  DATA_DIAGNOSTICO TEXT,\n",
        "  DATA_CONFIRMACAO_DIVULGACAO TEXT,\n",
        "  DATA_INICIO_SINTOMAS TEXT,\n",
        "  OBITO VARCHAR(5),\n",
        "  DATA_OBITO TEXT,\n",
        "  DATA_OBITO_DIVULGACAO TEXT,\n",
        "  STATUS VARCHAR(30),\n",
        "  DATA_RECUPERADO_DIVULGACAO TEXT,\n",
        "  FONTE_DADO_RECUPERADO VARCHAR(50)\n",
        ")\n",
        "\"\"\"\n",
        "#CONSTRAINT primary_key_constraint PRIMARY KEY () \n",
        "\n",
        "cursor.execute(sql_query)\n",
        "print(\"Open database successfully\")"
      ],
      "execution_count": 119,
      "outputs": [
        {
          "output_type": "stream",
          "text": [
            "Open database successfully\n"
          ],
          "name": "stdout"
        }
      ]
    },
    {
      "cell_type": "code",
      "metadata": {
        "colab": {
          "base_uri": "https://localhost:8080/"
        },
        "id": "UmtWd0yDGL9a",
        "outputId": "0f155845-da12-4653-fa7a-9b5c6cd3df2f"
      },
      "source": [
        "# Insert data from dataframe to sql database\n",
        "try: \n",
        "    data_PR.to_sql(\"COVID_PR_Completo\", engine, index=True, if_exists='append')\n",
        "except:\n",
        "    print(\"Data already exists in the database\")\n",
        "\n",
        "conn.close()\n",
        "print(\"Close database successfully\")"
      ],
      "execution_count": 120,
      "outputs": [
        {
          "output_type": "stream",
          "text": [
            "Close database successfully\n"
          ],
          "name": "stdout"
        }
      ]
    }
  ]
}
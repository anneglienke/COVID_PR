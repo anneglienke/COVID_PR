{
  "nbformat": 4,
  "nbformat_minor": 0,
  "metadata": {
    "colab": {
      "name": "Covid_PR.ipynb",
      "provenance": []
    },
    "kernelspec": {
      "name": "python3",
      "display_name": "Python 3"
    }
  },
  "cells": [
    {
      "cell_type": "code",
      "metadata": {
        "id": "J9j6qxBawnEV"
      },
      "source": [
        "!pip install requests"
      ],
      "execution_count": null,
      "outputs": []
    },
    {
      "cell_type": "code",
      "metadata": {
        "id": "HP6aRClbT8fm"
      },
      "source": [
        "import requests as req\n",
        "import pandas as pd \n",
        "from datetime import datetime, timedelta, timezone\n",
        "import sqlalchemy\n",
        "import sqlite3"
      ],
      "execution_count": null,
      "outputs": []
    },
    {
      "cell_type": "code",
      "metadata": {
        "id": "CUC8CYjNrF_v"
      },
      "source": [
        "DATABASE_LOCATION = \"sqlite:///COVID_PR_Completo.sqlite\""
      ],
      "execution_count": null,
      "outputs": []
    },
    {
      "cell_type": "code",
      "metadata": {
        "id": "0nnAgx4VUIRd"
      },
      "source": [
        "#start_date = today - timedelta(days=90)\n",
        "#delta = timedelta(days=1)\n",
        "\n",
        "#while start_date <= today:\n",
        "#    run script\n",
        "#    start_date += delta"
      ],
      "execution_count": null,
      "outputs": []
    },
    {
      "cell_type": "code",
      "metadata": {
        "id": "Q_zLICtkUL9j",
        "colab": {
          "base_uri": "https://localhost:8080/"
        },
        "outputId": "dc7925e0-6a0e-451d-c9bc-9ecc9e5e40fe"
      },
      "source": [
        "# Extract CSV\n",
        "\n",
        "if __name__ == \"__main__\":\n",
        "\n",
        "  # Builds path\n",
        "  today = datetime.today()\n",
        "  yesterday = today - timedelta(days=1,hours=3) #to do: UTC\n",
        "  yyyymm = str(yesterday.year)+\"-\"+str(yesterday.month)\n",
        "  ddmm = str(yesterday.day)+\"_\"+str(yesterday.month)\n",
        "  date = yesterday.strftime(\"%x\")\n",
        "\n",
        "  informe = ['informe_epidemiologico','INFORME_EPIDEMIOLOGICO']\n",
        "  geral = ['geral','GERAL','Geral']\n",
        "\n",
        "  for i in informe:\n",
        "      for g in geral: \n",
        "        try:\n",
        "          path = f'https://www.saude.pr.gov.br/sites/default/arquivos_restritos/files/documento/{yyyymm}/{i}_{ddmm}_{g}.csv'\n",
        "  # Reads .csv\n",
        "          df = pd.read_csv(path,sep=';')\n",
        "        except Exception as e:\n",
        "          print(e)\n",
        "\n",
        "  # Creates index based on date\n",
        "  df[\"Extraido_em\"] = date\n",
        "  df.set_index(\"Extraido_em\", inplace=True)\n",
        "\n",
        "  # Creates a dataframe\n",
        "  data_PR = pd.DataFrame(df,columns=[\"IBGE_RES_PR\",\n",
        "                                     \"IBGE_ATEND_PR\",\n",
        "                                     \"SEXO\",\n",
        "                                     \"IDADE_ORIGINAL\",\n",
        "                                     \"MUN_RESIDENCIA\",\n",
        "                                     \"MUN_ATENDIMENTO\",\n",
        "                                     \"LABORATORIO\",\n",
        "                                     \"DATA_DIAGNOSTICO\",\n",
        "                                     \"DATA_CONFIRMACAO_DIVULGACAO\",\n",
        "                                     \"DATA_INICIO_SINTOMAS\",\n",
        "                                     \"OBITO\",\n",
        "                                     \"DATA_OBITO\",\n",
        "                                     \"DATA_OBITO_DIVULGACAO\",\n",
        "                                     \"STATUS\",\n",
        "                                     \"DATA_RECUPERADO_DIVULGACAO\",\n",
        "                                     \"FONTE_DADO_RECUPERADO\"])\n",
        "  print(data_PR)"
      ],
      "execution_count": 128,
      "outputs": [
        {
          "output_type": "stream",
          "text": [
            "HTTP Error 404: Not Found\n",
            "HTTP Error 404: Not Found\n",
            "HTTP Error 404: Not Found\n",
            "HTTP Error 404: Not Found\n",
            "HTTP Error 404: Not Found\n",
            "HTTP Error 404: Not Found\n",
            "             IBGE_RES_PR  ...  FONTE_DADO_RECUPERADO\n",
            "Extraido_em               ...                       \n",
            "12/02/20         4114609  ...         NOTIFICA COVID\n",
            "12/02/20         4125407  ...         NOTIFICA COVID\n",
            "12/02/20         4118204  ...         NOTIFICA COVID\n",
            "12/02/20         4102208  ...         NOTIFICA COVID\n",
            "12/02/20         4103602  ...         NOTIFICA COVID\n",
            "...                  ...  ...                    ...\n",
            "12/02/20         4108304  ...                    NaN\n",
            "12/02/20         4101804  ...                    NaN\n",
            "12/02/20         4113700  ...                    NaN\n",
            "12/02/20         4111605  ...                    NaN\n",
            "12/02/20         4108304  ...                    NaN\n",
            "\n",
            "[277707 rows x 16 columns]\n"
          ],
          "name": "stdout"
        }
      ]
    },
    {
      "cell_type": "code",
      "metadata": {
        "id": "Qt06oNvseIUE"
      },
      "source": [
        "# Defines validation function\n",
        "\n",
        "def check_if_valid_data(df: pd.DataFrame) -> bool:\n",
        "    # Check if df is empty\n",
        "    if data_PR.empty:\n",
        "        print(\"No data downloaded\")\n",
        "        return False\n",
        "\n",
        "#    Check for duplicates\n",
        "#    if pd.Series(data_PR[\"\"],data_PR.index).is_unique:\n",
        "#        pass\n",
        "#    else:\n",
        "#        raise Exception(\"Duplicated primary key\")"
      ],
      "execution_count": null,
      "outputs": []
    },
    {
      "cell_type": "code",
      "metadata": {
        "id": "X80LGZNvCdKn"
      },
      "source": [
        "# Checks if the data is valid\n",
        "if check_if_valid_data(data_PR):\n",
        "    print(\"Valid data\")"
      ],
      "execution_count": null,
      "outputs": []
    },
    {
      "cell_type": "code",
      "metadata": {
        "id": "1IiRwu0YUAz2"
      },
      "source": [
        "# Creates engine & connects with it\n",
        "engine = sqlalchemy.create_engine(DATABASE_LOCATION)\n",
        "conn = sqlite3.connect('COVID_PR_Completo.db')\n",
        "cursor = conn.cursor()\n",
        "\n",
        "# Defines tables\n",
        "sql_query = \"\"\"\n",
        "CREATE TABLE IF NOT EXISTS COVID_PR_Completo( \n",
        "  IBGE_RES_PR VARCHAR(15),\n",
        "  IBGE_ATEND_PR VARCHAR(15),\n",
        "  SEXO VARCHAR(5),\n",
        "  IDADE_ORIGINAL INTEGER,\n",
        "  MUN_RESIDENCIA VARCHAR(30),\n",
        "  MUN_ATENDIMENTO VARCHAR(30),\n",
        "  LABORATORIO VARCHAR(50),\n",
        "  DATA_DIAGNOSTICO TEXT,\n",
        "  DATA_CONFIRMACAO_DIVULGACAO TEXT,\n",
        "  DATA_INICIO_SINTOMAS TEXT,\n",
        "  OBITO VARCHAR(5),\n",
        "  DATA_OBITO TEXT,\n",
        "  DATA_OBITO_DIVULGACAO TEXT,\n",
        "  STATUS VARCHAR(30),\n",
        "  DATA_RECUPERADO_DIVULGACAO TEXT,\n",
        "  FONTE_DADO_RECUPERADO VARCHAR(50)\n",
        ")\n",
        "\"\"\"\n",
        "# to do: add CONSTRAINT primary_key_constraint PRIMARY KEY () \n",
        "\n",
        "cursor.execute(sql_query)\n",
        "print(\"Open database successfully\")"
      ],
      "execution_count": null,
      "outputs": []
    },
    {
      "cell_type": "code",
      "metadata": {
        "id": "UmtWd0yDGL9a"
      },
      "source": [
        "# Inserts data from dataframe to sql database\n",
        "try: \n",
        "    data_PR.to_sql(\"COVID_PR_Completo\", engine, index=True, if_exists='append')\n",
        "except:\n",
        "    print(\"Data already exists in the database\")\n",
        "\n",
        "conn.close()\n",
        "print(\"Close database successfully\")"
      ],
      "execution_count": null,
      "outputs": []
    }
  ]
}